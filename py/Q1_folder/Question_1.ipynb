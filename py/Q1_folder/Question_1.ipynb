{
 "cells": [
  {
   "cell_type": "markdown",
   "metadata": {},
   "source": [
    "# **Predicting Fire Radiative Power Using Random Forest Regressor**\n",
    "\n"
   ]
  },
  {
   "cell_type": "markdown",
   "metadata": {},
   "source": [
    "## **Introduction:**\n",
    "\n",
    "This notebook explores the prediction Fire Radiative Power (FRP) using satellite data of Australian bushfires with a Random Forest Regressor. The goal of this notebook is to predict the intensity of wildfires based on features like brightness values (`bright_ti4` and `bright_ti5`), geographical coordinates, and confidence levels. The analysis covers data preprocessing, feature selection, model training, and evaluation."
   ]
  },
  {
   "cell_type": "markdown",
   "metadata": {},
   "source": [
    "## **Importing Required Libraries**\n",
    "\n",
    "The following libraries are essential for data processing, model training, and visualization:\n",
    "\n",
    "- **`os`**: Handles file paths and directories.\n",
    "- **`pandas`**: Used for data manipulation and analysis.\n",
    "- **`numpy`**: Core library for numerical computing.\n",
    "- **`matplotlib.pyplot`**: Creates static visualizations, like plots and charts.\n",
    "- **`seaborn`**: Built on `matplotlib`, provides high-level statistical graphics.\n",
    "- **`sklearn.ensemble.RandomForestRegressor`**: Random Forest model for handling non-linear relationships.\n",
    "- **`sklearn.model_selection.train_test_split`**: Splits the dataset into training and testing subsets.\n",
    "- **`sklearn.metrics`**: Provides performance metrics like MSE and R² score.\n",
    "- **`geopandas`**: Handles geographic data for plotting maps of Australia.\n",
    "- **`matplotlib.colors`**: Manages color normalization for visualizations."
   ]
  },
  {
   "cell_type": "code",
   "execution_count": 3,
   "metadata": {},
   "outputs": [],
   "source": [
    "# Import required libraries\n",
    "import os\n",
    "import pandas as pd\n",
    "import numpy as np\n",
    "import matplotlib.pyplot as plt\n",
    "import seaborn as sns\n",
    "from sklearn.ensemble import RandomForestRegressor\n",
    "from sklearn.model_selection import train_test_split\n",
    "from sklearn.metrics import mean_squared_error, r2_score\n",
    "import geopandas as gpd\n",
    "import matplotlib.colors as mcolors"
   ]
  },
  {
   "cell_type": "markdown",
   "metadata": {},
   "source": [
    "## **Loading and Examining the Dataset:**\n",
    "\n",
    "In this step, the dataset will be loaded into a Pandas DataFrame and displayed using some simple dataset visaulation techniques\n",
    "\n",
    "1. Load the dataset using `pd.read_csv()`.\n",
    "2. Examine the structure of the data with `df.info()` to check for any missing values and to get an overview of the column types.\n",
    "3. Preview the first few rows using `df.head()` to get an initial look at the data and understand its content."
   ]
  },
  {
   "cell_type": "code",
   "execution_count": 4,
   "metadata": {},
   "outputs": [],
   "source": [
    "# Load the dataset (your own filename or path may be different)\n",
    "dataset_path = \"/Users/ciaranbritton/Library/Mobile Documents/com~apple~CloudDocs/Ciaran's Folder/University/Year 4/Advanced Computational Techniques/bushfires.csv\"\n",
    "df = pd.read_csv(dataset_path)"
   ]
  },
  {
   "cell_type": "code",
   "execution_count": 5,
   "metadata": {},
   "outputs": [
    {
     "name": "stdout",
     "output_type": "stream",
     "text": [
      "<class 'pandas.core.frame.DataFrame'>\n",
      "RangeIndex: 105713 entries, 0 to 105712\n",
      "Data columns (total 14 columns):\n",
      " #   Column      Non-Null Count   Dtype  \n",
      "---  ------      --------------   -----  \n",
      " 0   latitude    105713 non-null  float64\n",
      " 1   longitude   105713 non-null  float64\n",
      " 2   bright_ti4  105713 non-null  float64\n",
      " 3   scan        105713 non-null  float64\n",
      " 4   track       105713 non-null  float64\n",
      " 5   acq_date    105713 non-null  object \n",
      " 6   acq_time    105713 non-null  int64  \n",
      " 7   satellite   105713 non-null  object \n",
      " 8   instrument  105713 non-null  object \n",
      " 9   confidence  105713 non-null  object \n",
      " 10  version     105713 non-null  int64  \n",
      " 11  bright_ti5  105713 non-null  float64\n",
      " 12  frp         105713 non-null  float64\n",
      " 13  type        105713 non-null  int64  \n",
      "dtypes: float64(7), int64(3), object(4)\n",
      "memory usage: 11.3+ MB\n"
     ]
    }
   ],
   "source": [
    "# Display information on the dataset\n",
    "df.info()"
   ]
  },
  {
   "cell_type": "code",
   "execution_count": 6,
   "metadata": {},
   "outputs": [
    {
     "data": {
      "text/html": [
       "<div>\n",
       "<style scoped>\n",
       "    .dataframe tbody tr th:only-of-type {\n",
       "        vertical-align: middle;\n",
       "    }\n",
       "\n",
       "    .dataframe tbody tr th {\n",
       "        vertical-align: top;\n",
       "    }\n",
       "\n",
       "    .dataframe thead th {\n",
       "        text-align: right;\n",
       "    }\n",
       "</style>\n",
       "<table border=\"1\" class=\"dataframe\">\n",
       "  <thead>\n",
       "    <tr style=\"text-align: right;\">\n",
       "      <th></th>\n",
       "      <th>latitude</th>\n",
       "      <th>longitude</th>\n",
       "      <th>bright_ti4</th>\n",
       "      <th>scan</th>\n",
       "      <th>track</th>\n",
       "      <th>acq_date</th>\n",
       "      <th>acq_time</th>\n",
       "      <th>satellite</th>\n",
       "      <th>instrument</th>\n",
       "      <th>confidence</th>\n",
       "      <th>version</th>\n",
       "      <th>bright_ti5</th>\n",
       "      <th>frp</th>\n",
       "      <th>type</th>\n",
       "    </tr>\n",
       "  </thead>\n",
       "  <tbody>\n",
       "    <tr>\n",
       "      <th>0</th>\n",
       "      <td>-37.48861</td>\n",
       "      <td>149.63156</td>\n",
       "      <td>341.1</td>\n",
       "      <td>0.41</td>\n",
       "      <td>0.60</td>\n",
       "      <td>2019-09-01</td>\n",
       "      <td>304</td>\n",
       "      <td>N</td>\n",
       "      <td>VIIRS</td>\n",
       "      <td>n</td>\n",
       "      <td>1</td>\n",
       "      <td>293.7</td>\n",
       "      <td>4.4</td>\n",
       "      <td>0</td>\n",
       "    </tr>\n",
       "    <tr>\n",
       "      <th>1</th>\n",
       "      <td>-34.46110</td>\n",
       "      <td>150.88142</td>\n",
       "      <td>328.5</td>\n",
       "      <td>0.33</td>\n",
       "      <td>0.55</td>\n",
       "      <td>2019-09-01</td>\n",
       "      <td>305</td>\n",
       "      <td>N</td>\n",
       "      <td>VIIRS</td>\n",
       "      <td>l</td>\n",
       "      <td>1</td>\n",
       "      <td>298.5</td>\n",
       "      <td>2.1</td>\n",
       "      <td>2</td>\n",
       "    </tr>\n",
       "    <tr>\n",
       "      <th>2</th>\n",
       "      <td>-33.94823</td>\n",
       "      <td>151.21292</td>\n",
       "      <td>341.1</td>\n",
       "      <td>0.62</td>\n",
       "      <td>0.54</td>\n",
       "      <td>2019-09-01</td>\n",
       "      <td>305</td>\n",
       "      <td>N</td>\n",
       "      <td>VIIRS</td>\n",
       "      <td>n</td>\n",
       "      <td>1</td>\n",
       "      <td>295.3</td>\n",
       "      <td>6.4</td>\n",
       "      <td>0</td>\n",
       "    </tr>\n",
       "    <tr>\n",
       "      <th>3</th>\n",
       "      <td>-34.45618</td>\n",
       "      <td>150.87723</td>\n",
       "      <td>328.5</td>\n",
       "      <td>0.33</td>\n",
       "      <td>0.55</td>\n",
       "      <td>2019-09-01</td>\n",
       "      <td>305</td>\n",
       "      <td>N</td>\n",
       "      <td>VIIRS</td>\n",
       "      <td>n</td>\n",
       "      <td>1</td>\n",
       "      <td>298.1</td>\n",
       "      <td>2.1</td>\n",
       "      <td>2</td>\n",
       "    </tr>\n",
       "    <tr>\n",
       "      <th>4</th>\n",
       "      <td>-31.60223</td>\n",
       "      <td>150.15147</td>\n",
       "      <td>367.0</td>\n",
       "      <td>0.34</td>\n",
       "      <td>0.56</td>\n",
       "      <td>2019-09-01</td>\n",
       "      <td>306</td>\n",
       "      <td>N</td>\n",
       "      <td>VIIRS</td>\n",
       "      <td>h</td>\n",
       "      <td>1</td>\n",
       "      <td>302.4</td>\n",
       "      <td>19.3</td>\n",
       "      <td>0</td>\n",
       "    </tr>\n",
       "  </tbody>\n",
       "</table>\n",
       "</div>"
      ],
      "text/plain": [
       "   latitude  longitude  bright_ti4  scan  track    acq_date  acq_time  \\\n",
       "0 -37.48861  149.63156       341.1  0.41   0.60  2019-09-01       304   \n",
       "1 -34.46110  150.88142       328.5  0.33   0.55  2019-09-01       305   \n",
       "2 -33.94823  151.21292       341.1  0.62   0.54  2019-09-01       305   \n",
       "3 -34.45618  150.87723       328.5  0.33   0.55  2019-09-01       305   \n",
       "4 -31.60223  150.15147       367.0  0.34   0.56  2019-09-01       306   \n",
       "\n",
       "  satellite instrument confidence  version  bright_ti5   frp  type  \n",
       "0         N      VIIRS          n        1       293.7   4.4     0  \n",
       "1         N      VIIRS          l        1       298.5   2.1     2  \n",
       "2         N      VIIRS          n        1       295.3   6.4     0  \n",
       "3         N      VIIRS          n        1       298.1   2.1     2  \n",
       "4         N      VIIRS          h        1       302.4  19.3     0  "
      ]
     },
     "execution_count": 6,
     "metadata": {},
     "output_type": "execute_result"
    }
   ],
   "source": [
    "# Display the first rows of each column\n",
    "df.head()"
   ]
  },
  {
   "cell_type": "markdown",
   "metadata": {},
   "source": [
    "### **Dataset Overview**\n",
    "\n",
    "After loading the dataset, we can see the following:\n",
    "\n",
    "- **Satellite, Instrument, and Version Columns**: These columns don't change throughout the dataset as they describe static variables.\n",
    "- **acq_date**: The acquisition date stays within the same month for all observations\n",
    "- **bright_ti4 and bright_ti5**: These columns represent the brightness values of the fire in different infrared bands. They provide information about the intensity of the fire, which will be crucial for predicting Fire Radiative Power (FRP).\n",
    "- **frp**: This is our target continuous variable. FRP represents the intensity of the fire and is the variable we aim to predict using the features from the dataset.\n",
    "- **type**: This column is meant to display whether the readings were taken during the day or night, however the column only displays the numbers 0, 2, or 3. Either way this variable wouldn't have impacted our target varaible considerably enough to worry about.\n",
    "- **confidence**: This column represents the confidence level of the measurements, either low, nominal, or high.\n",
    "- **latitude and longitude**: These columns indicate the geographical coordinates of each fire event.\n",
    "- **scan and track**: These columns represent the pixel size in the scan and track directions of the satellite’s observation. `Scan` refers to the pixel size along the satellite's movement across the Earth's surface, while `track` refers to the pixel size along the satellite's orbit path."
   ]
  },
  {
   "cell_type": "markdown",
   "metadata": {},
   "source": []
  }
 ],
 "metadata": {
  "kernelspec": {
   "display_name": "Python 3",
   "language": "python",
   "name": "python3"
  },
  "language_info": {
   "codemirror_mode": {
    "name": "ipython",
    "version": 3
   },
   "file_extension": ".py",
   "mimetype": "text/x-python",
   "name": "python",
   "nbconvert_exporter": "python",
   "pygments_lexer": "ipython3",
   "version": "3.13.0"
  }
 },
 "nbformat": 4,
 "nbformat_minor": 2
}

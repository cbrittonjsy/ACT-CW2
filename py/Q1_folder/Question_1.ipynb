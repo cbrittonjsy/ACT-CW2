{
 "cells": [
  {
   "cell_type": "markdown",
   "metadata": {},
   "source": [
    "# **Predicting Fire Radiative Power Using Random Forest Regressor**\n",
    "\n"
   ]
  },
  {
   "cell_type": "markdown",
   "metadata": {},
   "source": [
    "## **Introduction:**\n",
    "\n",
    "This notebook explores the prediction Fire Radiative Power (FRP) using satellite data of Australian bushfires with a Random Forest Regressor. The goal of this notebook is to predict the intensity of wildfires based on features like brightness values (`bright_ti4` and `bright_ti5`), geographical coordinates, and confidence levels. The analysis covers data preprocessing, feature selection, model training, and evaluation."
   ]
  },
  {
   "cell_type": "markdown",
   "metadata": {},
   "source": [
    "## **Importing Required Libraries**\n",
    "\n",
    "The following libraries are essential for data processing, model training, and visualization:\n",
    "\n",
    "- **`os`**: Handles file paths and directories.\n",
    "- **`pandas`**: Used for data manipulation and analysis.\n",
    "- **`numpy`**: Core library for numerical computing.\n",
    "- **`matplotlib.pyplot`**: Creates static visualizations, like plots and charts.\n",
    "- **`seaborn`**: Built on `matplotlib`, provides high-level statistical graphics.\n",
    "- **`sklearn.ensemble.RandomForestRegressor`**: Random Forest model for handling non-linear relationships.\n",
    "- **`sklearn.model_selection.train_test_split`**: Splits the dataset into training and testing subsets.\n",
    "- **`sklearn.metrics`**: Provides performance metrics like MSE and R² score.\n",
    "- **`geopandas`**: Handles geographic data for plotting maps of Australia.\n",
    "- **`matplotlib.colors`**: Manages color normalization for visualizations."
   ]
  },
  {
   "cell_type": "code",
   "execution_count": 3,
   "metadata": {},
   "outputs": [],
   "source": [
    "# Import required libraries\n",
    "import os\n",
    "import pandas as pd\n",
    "import numpy as np\n",
    "import matplotlib.pyplot as plt\n",
    "import seaborn as sns\n",
    "from sklearn.ensemble import RandomForestRegressor\n",
    "from sklearn.model_selection import train_test_split\n",
    "from sklearn.metrics import mean_squared_error, r2_score\n",
    "import geopandas as gpd\n",
    "import matplotlib.colors as mcolors"
   ]
  },
  {
   "cell_type": "code",
   "execution_count": null,
   "metadata": {},
   "outputs": [],
   "source": []
  }
 ],
 "metadata": {
  "kernelspec": {
   "display_name": "Python 3",
   "language": "python",
   "name": "python3"
  },
  "language_info": {
   "codemirror_mode": {
    "name": "ipython",
    "version": 3
   },
   "file_extension": ".py",
   "mimetype": "text/x-python",
   "name": "python",
   "nbconvert_exporter": "python",
   "pygments_lexer": "ipython3",
   "version": "3.13.0"
  }
 },
 "nbformat": 4,
 "nbformat_minor": 2
}

{
 "cells": [
  {
   "cell_type": "markdown",
   "metadata": {},
   "source": [
    "# **How Does Pre-Training (and Epochs and Batches) Affect the Performance of a Neural Network?**"
   ]
  },
  {
   "cell_type": "markdown",
   "metadata": {},
   "source": [
    "## **Introduction**\n",
    "\n",
    "In this section, we will explore how adjusting hyperparameters like **epochs** and **batch sizes** affects the performance of the neural network. Additionally, we will experiment with **pre-trained models** to compare their performance to our simple feedforward network.\n",
    "\n",
    "To start with, the first few steps of data loading and preparation will be copied from Question 2. If you want to see explanations and reasoning for choices within the code then all the markdown sections are present in questions 1 and 2 for this first part.\n",
    "\n",
    "One part that's been negatively affecting the models so far is the extreme outliers at the upper end of FRP. Although in the data cleaning stages of Question 1 the FRP was capped at 95%, it still seems like this is what is causing both the Random Forest Regressor and Neural Network to have lower R² scores, so to start with lets try capping the FRP at 80% and see what impact that has."
   ]
  },
  {
   "cell_type": "markdown",
   "metadata": {},
   "source": [
    "## **Importing Required Libraries**\n",
    "\n",
    "The following libraries are used for data processing, neural network training, and visualisation:\n",
    "\n",
    "- **`os`**: Handles file paths and directories.\n",
    "- **`torch`**: PyTorch library for building and training neural networks.\n",
    "- **`torch.nn`**: Contains classes for defining and training neural networks.\n",
    "- **`torch.optim`**: Provides optimisation algorithms like Adam for training neural networks.\n",
    "- **`pytorch_tabnet.tab_model`**: Provides the TabNet model for regression and classification tasks on tabular data.\n",
    "- **`sklearn.model_selection.train_test_split`**: Splits the dataset into training and testing subsets.\n",
    "- **`sklearn.preprocessing.StandardScaler`**: Standardises features by removing the mean and scaling to unit variance.\n",
    "- **`sklearn.metrics`**: Provides performance metrics like MSE and R² score.\n",
    "- **`pandas`**: For data manipulation and analysis.\n",
    "- **`geopandas`**: Handles geographic data for plotting maps of Australia.\n",
    "- **`numpy`**: Core library for numerical computing.\n",
    "- **`matplotlib.pyplot`**: Creates static visualisations like plots and charts.\n",
    "- **`matplotlib.colors`**: Manages colour normalisation for visualisations.\n",
    "- **`seaborn`**: Built on `matplotlib`, provides high-level statistical graphics."
   ]
  },
  {
   "cell_type": "code",
   "execution_count": 143,
   "metadata": {},
   "outputs": [],
   "source": [
    "import os\n",
    "import torch\n",
    "import torch.nn as nn\n",
    "import torch.optim as optim\n",
    "from torch.utils.data import TensorDataset, DataLoader\n",
    "from pytorch_tabnet.tab_model import TabNetRegressor\n",
    "from sklearn.model_selection import train_test_split\n",
    "from sklearn.preprocessing import StandardScaler\n",
    "from sklearn.metrics import mean_squared_error, r2_score\n",
    "import pandas as pd\n",
    "import geopandas as gpd\n",
    "import numpy as np\n",
    "import matplotlib.pyplot as plt\n",
    "import matplotlib.colors as mcolors\n",
    "import seaborn as sns"
   ]
  },
  {
   "cell_type": "markdown",
   "metadata": {},
   "source": [
    "## **Code Copied from Question 2**\n",
    "\n",
    "With the inclusion of capping FRP at 80%"
   ]
  },
  {
   "cell_type": "code",
   "execution_count": 144,
   "metadata": {},
   "outputs": [],
   "source": [
    "# Load the dataset (your own filename or path may be different)\n",
    "dataset_path = \"/Users/ciaranbritton/Library/Mobile Documents/com~apple~CloudDocs/Ciaran's Folder/University/Year 4/Advanced Computational Techniques/cleaned_bushfires.csv\"\n",
    "df_cleaned = pd.read_csv(dataset_path)"
   ]
  },
  {
   "cell_type": "markdown",
   "metadata": {},
   "source": [
    "An additional step here is to cap the FRP even lower than we have been which was 95%. This time we'll try 80%"
   ]
  },
  {
   "cell_type": "code",
   "execution_count": 145,
   "metadata": {},
   "outputs": [],
   "source": [
    "# Cap the FRP values at the 80th percentile to remove extreme outliers\n",
    "frp_80th = df_cleaned[\"frp\"].quantile(0.80)\n",
    "df_cleaned[\"frp_capped\"] = df_cleaned[\"frp\"].clip(upper=frp_80th)\n",
    "\n",
    "# Remove rows with missing values to ensure a clean dataset for training\n",
    "df_cleaned = df_cleaned.dropna()"
   ]
  },
  {
   "cell_type": "code",
   "execution_count": 146,
   "metadata": {},
   "outputs": [],
   "source": [
    "# Save the cleaned dataset to a new CSV file\n",
    "df_cleaned.to_csv(\"/Users/ciaranbritton/Library/Mobile Documents/com~apple~CloudDocs/Ciaran's Folder/University/Year 4/Advanced Computational Techniques/cleaned_bushfires.csv\", index=False)"
   ]
  },
  {
   "cell_type": "code",
   "execution_count": 147,
   "metadata": {},
   "outputs": [
    {
     "name": "stdout",
     "output_type": "stream",
     "text": [
      "<class 'pandas.core.frame.DataFrame'>\n",
      "RangeIndex: 98514 entries, 0 to 98513\n",
      "Data columns (total 12 columns):\n",
      " #   Column        Non-Null Count  Dtype  \n",
      "---  ------        --------------  -----  \n",
      " 0   latitude      98514 non-null  float64\n",
      " 1   longitude     98514 non-null  float64\n",
      " 2   bright_ti4    98514 non-null  float64\n",
      " 3   scan          98514 non-null  float64\n",
      " 4   track         98514 non-null  float64\n",
      " 5   acq_time      98514 non-null  int64  \n",
      " 6   bright_ti5    98514 non-null  float64\n",
      " 7   frp           98514 non-null  float64\n",
      " 8   type          98514 non-null  int64  \n",
      " 9   confidence_h  98514 non-null  bool   \n",
      " 10  confidence_n  98514 non-null  bool   \n",
      " 11  frp_capped    98514 non-null  float64\n",
      "dtypes: bool(2), float64(8), int64(2)\n",
      "memory usage: 7.7 MB\n"
     ]
    }
   ],
   "source": [
    "df_cleaned.info()"
   ]
  },
  {
   "cell_type": "code",
   "execution_count": 148,
   "metadata": {},
   "outputs": [
    {
     "data": {
      "text/html": [
       "<div>\n",
       "<style scoped>\n",
       "    .dataframe tbody tr th:only-of-type {\n",
       "        vertical-align: middle;\n",
       "    }\n",
       "\n",
       "    .dataframe tbody tr th {\n",
       "        vertical-align: top;\n",
       "    }\n",
       "\n",
       "    .dataframe thead th {\n",
       "        text-align: right;\n",
       "    }\n",
       "</style>\n",
       "<table border=\"1\" class=\"dataframe\">\n",
       "  <thead>\n",
       "    <tr style=\"text-align: right;\">\n",
       "      <th></th>\n",
       "      <th>latitude</th>\n",
       "      <th>longitude</th>\n",
       "      <th>bright_ti4</th>\n",
       "      <th>scan</th>\n",
       "      <th>track</th>\n",
       "      <th>acq_time</th>\n",
       "      <th>bright_ti5</th>\n",
       "      <th>frp</th>\n",
       "      <th>type</th>\n",
       "      <th>confidence_h</th>\n",
       "      <th>confidence_n</th>\n",
       "      <th>frp_capped</th>\n",
       "    </tr>\n",
       "  </thead>\n",
       "  <tbody>\n",
       "    <tr>\n",
       "      <th>0</th>\n",
       "      <td>-37.48861</td>\n",
       "      <td>149.63156</td>\n",
       "      <td>341.1</td>\n",
       "      <td>0.41</td>\n",
       "      <td>0.60</td>\n",
       "      <td>304</td>\n",
       "      <td>293.7</td>\n",
       "      <td>4.4</td>\n",
       "      <td>0</td>\n",
       "      <td>False</td>\n",
       "      <td>True</td>\n",
       "      <td>4.4</td>\n",
       "    </tr>\n",
       "    <tr>\n",
       "      <th>1</th>\n",
       "      <td>-33.94823</td>\n",
       "      <td>151.21292</td>\n",
       "      <td>341.1</td>\n",
       "      <td>0.62</td>\n",
       "      <td>0.54</td>\n",
       "      <td>305</td>\n",
       "      <td>295.3</td>\n",
       "      <td>6.4</td>\n",
       "      <td>0</td>\n",
       "      <td>False</td>\n",
       "      <td>True</td>\n",
       "      <td>6.4</td>\n",
       "    </tr>\n",
       "    <tr>\n",
       "      <th>2</th>\n",
       "      <td>-34.45618</td>\n",
       "      <td>150.87723</td>\n",
       "      <td>328.5</td>\n",
       "      <td>0.33</td>\n",
       "      <td>0.55</td>\n",
       "      <td>305</td>\n",
       "      <td>298.1</td>\n",
       "      <td>2.1</td>\n",
       "      <td>2</td>\n",
       "      <td>False</td>\n",
       "      <td>True</td>\n",
       "      <td>2.1</td>\n",
       "    </tr>\n",
       "    <tr>\n",
       "      <th>3</th>\n",
       "      <td>-31.60223</td>\n",
       "      <td>150.15147</td>\n",
       "      <td>367.0</td>\n",
       "      <td>0.34</td>\n",
       "      <td>0.56</td>\n",
       "      <td>306</td>\n",
       "      <td>302.4</td>\n",
       "      <td>19.3</td>\n",
       "      <td>0</td>\n",
       "      <td>True</td>\n",
       "      <td>False</td>\n",
       "      <td>11.8</td>\n",
       "    </tr>\n",
       "    <tr>\n",
       "      <th>4</th>\n",
       "      <td>-29.26867</td>\n",
       "      <td>149.46602</td>\n",
       "      <td>367.0</td>\n",
       "      <td>0.35</td>\n",
       "      <td>0.57</td>\n",
       "      <td>306</td>\n",
       "      <td>307.0</td>\n",
       "      <td>13.6</td>\n",
       "      <td>0</td>\n",
       "      <td>True</td>\n",
       "      <td>False</td>\n",
       "      <td>11.8</td>\n",
       "    </tr>\n",
       "  </tbody>\n",
       "</table>\n",
       "</div>"
      ],
      "text/plain": [
       "   latitude  longitude  bright_ti4  scan  track  acq_time  bright_ti5   frp  \\\n",
       "0 -37.48861  149.63156       341.1  0.41   0.60       304       293.7   4.4   \n",
       "1 -33.94823  151.21292       341.1  0.62   0.54       305       295.3   6.4   \n",
       "2 -34.45618  150.87723       328.5  0.33   0.55       305       298.1   2.1   \n",
       "3 -31.60223  150.15147       367.0  0.34   0.56       306       302.4  19.3   \n",
       "4 -29.26867  149.46602       367.0  0.35   0.57       306       307.0  13.6   \n",
       "\n",
       "   type  confidence_h  confidence_n  frp_capped  \n",
       "0     0         False          True         4.4  \n",
       "1     0         False          True         6.4  \n",
       "2     2         False          True         2.1  \n",
       "3     0          True         False        11.8  \n",
       "4     0          True         False        11.8  "
      ]
     },
     "execution_count": 148,
     "metadata": {},
     "output_type": "execute_result"
    }
   ],
   "source": [
    "df_cleaned.head()"
   ]
  },
  {
   "cell_type": "code",
   "execution_count": 149,
   "metadata": {},
   "outputs": [],
   "source": [
    "# Define X and y\n",
    "X = df_cleaned[[\"bright_ti4\", \"bright_ti5\", \"scan\", \"track\", \"latitude\", \"longitude\"]]  # Features\n",
    "y = df_cleaned[\"frp_capped\"]  # Target variable"
   ]
  },
  {
   "cell_type": "code",
   "execution_count": 150,
   "metadata": {},
   "outputs": [],
   "source": [
    "scaler = StandardScaler()\n",
    "X_scaled = scaler.fit_transform(X)"
   ]
  },
  {
   "cell_type": "code",
   "execution_count": 151,
   "metadata": {},
   "outputs": [],
   "source": [
    "X_train, X_test, y_train, y_test = train_test_split(X_scaled, y, test_size=0.2, random_state=42)"
   ]
  },
  {
   "cell_type": "code",
   "execution_count": 152,
   "metadata": {},
   "outputs": [],
   "source": [
    "# Convert X_train and y_train to tensors\n",
    "X_train_tensor = torch.tensor(X_train, dtype=torch.float32)  # Features\n",
    "y_train_tensor = torch.tensor(y_train.values, dtype=torch.float32).view(-1, 1)  # Target\n",
    "\n",
    "# Convert X_test and y_test to tensors\n",
    "X_test_tensor = torch.tensor(X_test, dtype=torch.float32)  # Features\n",
    "y_test_tensor = torch.tensor(y_test.values, dtype=torch.float32).view(-1, 1)  # Target"
   ]
  },
  {
   "cell_type": "code",
   "execution_count": 153,
   "metadata": {},
   "outputs": [],
   "source": [
    "# Convert the training and testing data into PyTorch Tensors and then into TensorDatasets\n",
    "train_dataset = TensorDataset(X_train_tensor, y_train_tensor)  # Create a dataset for training from features and labels\n",
    "test_dataset = TensorDataset(X_test_tensor, y_test_tensor)     # Create a dataset for testing from features and labels\n",
    "\n",
    "# Set the batch size for training and testing\n",
    "batch_size = 64\n",
    "\n",
    "# Create DataLoader instances to handle batching and shuffling of data for more efficient training\n",
    "train_loader = DataLoader(train_dataset, batch_size=batch_size, shuffle=True)  # Shuffle the training data for each epoch\n",
    "test_loader = DataLoader(test_dataset, batch_size=batch_size, shuffle=False)  # Do not shuffle test data (used for evaluation)"
   ]
  },
  {
   "cell_type": "code",
   "execution_count": 154,
   "metadata": {},
   "outputs": [],
   "source": [
    "# Define a simple feedforward neural network for predicting continuous values (regression)\n",
    "class FRP_Regressor(nn.Module):\n",
    "    def __init__(self, input_dim, hidden_dim):\n",
    "        super(FRP_Regressor, self).__init__()\n",
    "        # Define the layers of the network: input layer, hidden layer, and output layer\n",
    "        self.fc = nn.Sequential(\n",
    "            nn.Linear(input_dim, hidden_dim),  # Transform input features to hidden layer\n",
    "            nn.ReLU(),                         # Apply ReLU activation to the hidden layer\n",
    "            nn.Dropout(p=0.2),  # Adding dropout with 50% probability\n",
    "            nn.Linear(hidden_dim, 1)            # Output a single continuous value for regression\n",
    "        )\n",
    "\n",
    "    def forward(self, x):\n",
    "        # Define how data passes through the network during forward propagation\n",
    "        return self.fc(x)\n",
    "\n",
    "# Set the input size and hidden layer size\n",
    "input_dim = X_train.shape[1]  # The number of features in the dataset\n",
    "hidden_dim = 64               # Number of neurons in the hidden layer\n",
    "\n",
    "# Initialise the model with the chosen parameters\n",
    "model = FRP_Regressor(input_dim, hidden_dim)\n",
    "\n",
    "criterion = nn.MSELoss()  # Using Mean Squared Error for regression\n",
    "optimiser = optim.Adam(model.parameters(), lr=0.01)"
   ]
  },
  {
   "cell_type": "code",
   "execution_count": 155,
   "metadata": {},
   "outputs": [
    {
     "name": "stdout",
     "output_type": "stream",
     "text": [
      "Epoch [1/50], Loss: 48.7219\n",
      "Epoch [2/50], Loss: 46.1054\n",
      "Epoch [3/50], Loss: 43.5696\n",
      "Epoch [4/50], Loss: 41.1177\n",
      "Epoch [5/50], Loss: 38.7149\n",
      "Epoch [6/50], Loss: 36.3400\n",
      "Epoch [7/50], Loss: 34.0030\n",
      "Epoch [8/50], Loss: 31.7160\n",
      "Epoch [9/50], Loss: 29.4204\n",
      "Epoch [10/50], Loss: 27.1419\n",
      "Epoch [11/50], Loss: 24.9159\n",
      "Epoch [12/50], Loss: 22.7204\n",
      "Epoch [13/50], Loss: 20.6260\n",
      "Epoch [14/50], Loss: 18.5802\n",
      "Epoch [15/50], Loss: 16.6861\n",
      "Epoch [16/50], Loss: 14.8720\n",
      "Epoch [17/50], Loss: 13.2459\n",
      "Epoch [18/50], Loss: 11.7813\n",
      "Epoch [19/50], Loss: 10.5427\n",
      "Epoch [20/50], Loss: 9.5245\n",
      "Epoch [21/50], Loss: 8.7375\n",
      "Epoch [22/50], Loss: 8.1950\n",
      "Epoch [23/50], Loss: 7.9302\n",
      "Epoch [24/50], Loss: 7.8032\n",
      "Epoch [25/50], Loss: 7.9123\n",
      "Epoch [26/50], Loss: 8.0362\n",
      "Epoch [27/50], Loss: 8.2314\n",
      "Epoch [28/50], Loss: 8.3637\n",
      "Epoch [29/50], Loss: 8.4369\n",
      "Epoch [30/50], Loss: 8.3922\n",
      "Epoch [31/50], Loss: 8.2180\n",
      "Epoch [32/50], Loss: 7.9809\n",
      "Epoch [33/50], Loss: 7.6938\n",
      "Epoch [34/50], Loss: 7.3835\n",
      "Epoch [35/50], Loss: 7.0617\n",
      "Epoch [36/50], Loss: 6.7759\n",
      "Epoch [37/50], Loss: 6.5686\n",
      "Epoch [38/50], Loss: 6.4102\n",
      "Epoch [39/50], Loss: 6.2926\n",
      "Epoch [40/50], Loss: 6.2338\n",
      "Epoch [41/50], Loss: 6.2150\n",
      "Epoch [42/50], Loss: 6.1759\n",
      "Epoch [43/50], Loss: 6.2161\n",
      "Epoch [44/50], Loss: 6.2372\n",
      "Epoch [45/50], Loss: 6.2727\n",
      "Epoch [46/50], Loss: 6.2812\n",
      "Epoch [47/50], Loss: 6.2817\n",
      "Epoch [48/50], Loss: 6.2550\n",
      "Epoch [49/50], Loss: 6.2475\n",
      "Epoch [50/50], Loss: 6.2119\n"
     ]
    }
   ],
   "source": [
    "train_losses = []  # Store the training loss at each epoch\n",
    "test_losses = []   # Store the test (validation) loss at each epoch\n",
    "\n",
    "# Training the neural network for 50 epochs\n",
    "epochs = 50\n",
    "for epoch in range(epochs):\n",
    "    model.train()  # Set the model to training mode\n",
    "    \n",
    "    # Forward pass: Pass the training data through the model to get predictions\n",
    "    predictions = model(X_train_tensor)\n",
    "    \n",
    "    # Calculate the loss by comparing the predictions to the true values\n",
    "    loss = criterion(predictions, y_train_tensor)\n",
    "    \n",
    "    # Backward pass: Zero out previous gradients, calculate new gradients, and update the model parameters\n",
    "    optimiser.zero_grad()  # Zero gradients for the next step\n",
    "    loss.backward()        # Perform backpropagation to calculate gradients\n",
    "    optimiser.step()       # Update the model parameters\n",
    "    \n",
    "    # Store the loss for this epoch\n",
    "    train_losses.append(loss.item())\n",
    "\n",
    "    # Evaluate on test data (validation data)\n",
    "    model.eval()  # Set the model to evaluation mode\n",
    "    with torch.no_grad():  # Disable gradient tracking for evaluation\n",
    "        test_predictions = model(X_test_tensor)\n",
    "        test_loss = criterion(test_predictions, y_test_tensor)\n",
    "    \n",
    "    # Store the test loss for this epoch\n",
    "    test_losses.append(test_loss.item())\n",
    "\n",
    "    # Print the average loss for every epoch\n",
    "    print(f\"Epoch [{epoch + 1}/{epochs}], Loss: {loss.item():.4f}\")"
   ]
  },
  {
   "cell_type": "code",
   "execution_count": 156,
   "metadata": {},
   "outputs": [
    {
     "name": "stdout",
     "output_type": "stream",
     "text": [
      "frp_regressor.pth saved\n"
     ]
    }
   ],
   "source": [
    "torch.save(model.state_dict(), \"frp_regressor.pth\")\n",
    "print(\"frp_regressor.pth saved\")"
   ]
  },
  {
   "cell_type": "markdown",
   "metadata": {},
   "source": [
    "## **Evaluating the Neural Network With FRP Capped Lower**"
   ]
  },
  {
   "cell_type": "code",
   "execution_count": 157,
   "metadata": {},
   "outputs": [
    {
     "name": "stdout",
     "output_type": "stream",
     "text": [
      "Training Loss (MSE): 5.7578\n",
      "Test Loss (MSE): 5.6626\n",
      "RMSE: 2.38\n",
      "R²: 0.67\n"
     ]
    }
   ],
   "source": [
    "# Evaluate the model on the training and test data\n",
    "train_loss = criterion(model(X_train_tensor), y_train_tensor)\n",
    "test_loss = criterion(model(X_test_tensor), y_test_tensor)\n",
    "\n",
    "# Print the loss on both the training and test data\n",
    "print(f\"Training Loss (MSE): {train_loss.item():.4f}\")\n",
    "print(f\"Test Loss (MSE): {test_loss.item():.4f}\")\n",
    "\n",
    "# Make predictions on the test data\n",
    "y_pred = model(X_test_tensor).detach().numpy()\n",
    "\n",
    "# Calculate RMSE and R² score\n",
    "rmse = np.sqrt(mean_squared_error(y_test, y_pred))\n",
    "r2 = r2_score(y_test, y_pred)\n",
    "\n",
    "print(f\"RMSE: {rmse:.2f}\")\n",
    "print(f\"R²: {r2:.2f}\")"
   ]
  },
  {
   "cell_type": "code",
   "execution_count": 158,
   "metadata": {},
   "outputs": [
    {
     "data": {
      "image/png": "[encoded data removed]",
      "text/plain": [
       "<Figure size 1000x600 with 1 Axes>"
      ]
     },
     "metadata": {},
     "output_type": "display_data"
    }
   ],
   "source": [
    "# Plotting the training and test loss curves\n",
    "plt.figure(figsize=(10, 6))\n",
    "plt.plot(range(1, epochs + 1), train_losses, label='Training Loss', color='blue')\n",
    "plt.plot(range(1, epochs + 1), test_losses, label='Test Loss', color='orange')\n",
    "plt.xlabel('Epochs')\n",
    "plt.ylabel('Loss (MSE)')\n",
    "plt.title('Training and Test Loss Curves')\n",
    "plt.legend()\n",
    "plt.show()"
   ]
  },
  {
   "cell_type": "markdown",
   "metadata": {},
   "source": [
    "As we can see that capping of FRP at 80% has greatly improved the model's performance, lowering both **MSE** and **RMSE**, as well as increasing **R²**. From now on we'll continue using this capped FRP."
   ]
  },
  {
   "cell_type": "markdown",
   "metadata": {},
   "source": [
    "## **Training the Feedforward Neural Network with Different Batch Sizes and Epochs**"
   ]
  },
  {
   "cell_type": "code",
   "execution_count": 159,
   "metadata": {},
   "outputs": [
    {
     "name": "stdout",
     "output_type": "stream",
     "text": [
      "Training model with 10 epochs and batch size 16...\n",
      "\n",
      "Training model with 20 epochs and batch size 16...\n",
      "\n",
      "Training model with 50 epochs and batch size 16...\n",
      "\n",
      "Training model with 100 epochs and batch size 16...\n",
      "\n",
      "Training model with 10 epochs and batch size 32...\n",
      "\n",
      "Training model with 20 epochs and batch size 32...\n",
      "\n",
      "Training model with 50 epochs and batch size 32...\n",
      "\n",
      "Training model with 100 epochs and batch size 32...\n",
      "\n",
      "Training model with 10 epochs and batch size 64...\n",
      "\n",
      "Training model with 20 epochs and batch size 64...\n",
      "\n",
      "Training model with 50 epochs and batch size 64...\n",
      "\n",
      "Training model with 100 epochs and batch size 64...\n",
      "\n",
      "Training model with 10 epochs and batch size 128...\n",
      "\n",
      "Training model with 20 epochs and batch size 128...\n",
      "\n",
      "Training model with 50 epochs and batch size 128...\n",
      "\n",
      "Training model with 100 epochs and batch size 128...\n",
      "\n",
      "Training model with 10 epochs and batch size 256...\n",
      "\n",
      "Training model with 20 epochs and batch size 256...\n",
      "\n",
      "Training model with 50 epochs and batch size 256...\n",
      "\n",
      "Training model with 100 epochs and batch size 256...\n",
      "\n"
     ]
    }
   ],
   "source": [
    "batch_sizes = [16, 32, 64, 128, 256]  # Various batch sizes\n",
    "epochs_values = [10, 20, 50, 100]  # Various numbers of epochs\n",
    "\n",
    "results = []\n",
    "train_losses = []\n",
    "test_losses = []\n",
    "\n",
    "# Loop through batch sizes and epochs\n",
    "for batch_size in batch_sizes:\n",
    "    for epochs in epochs_values:\n",
    "        # Rebuild the model for each combination of batch size and epochs\n",
    "        input_dim = X_train.shape[1]  # Number of features in the dataset\n",
    "        hidden_dim = 64  # Number of neurons in the hidden layer\n",
    "\n",
    "        # Initialise the model with the chosen parameters\n",
    "        model = FRP_Regressor(input_dim, hidden_dim)\n",
    "\n",
    "        criterion = nn.MSELoss()  # Using Mean Squared Error for regression\n",
    "        optimiser = optim.Adam(model.parameters(), lr=0.01)\n",
    "\n",
    "        train_losses = []  # Store the training loss at each epoch\n",
    "        test_losses = []   # Store the test (validation) loss at each epoch\n",
    "\n",
    "        print(f\"Training model with {epochs} epochs and batch size {batch_size}...\\n\")\n",
    "\n",
    "        # Train the neural network for the current combination of epochs and batch size\n",
    "        for epoch in range(epochs):\n",
    "            model.train()  # Set the model to training mode\n",
    "            \n",
    "            # Forward pass: Pass the training data through the model to get predictions\n",
    "            predictions = model(X_train_tensor)\n",
    "            \n",
    "            # Calculate the loss by comparing the predictions to the true values\n",
    "            loss = criterion(predictions, y_train_tensor)\n",
    "            \n",
    "            # Backward pass: Zero out previous gradients, calculate new gradients, and update the model parameters\n",
    "            optimiser.zero_grad()  # Zero gradients for the next step\n",
    "            loss.backward()        # Perform backpropagation to calculate gradients\n",
    "            optimiser.step()       # Update the model parameters\n",
    "            \n",
    "            # Store the loss for this epoch\n",
    "            train_losses.append(loss.item())\n",
    "\n",
    "            # Evaluate on test data (validation data)\n",
    "            model.eval()  # Set the model to evaluation mode\n",
    "            with torch.no_grad():  # Disable gradient tracking for evaluation\n",
    "                test_predictions = model(X_test_tensor)\n",
    "                test_loss = criterion(test_predictions, y_test_tensor)\n",
    "            \n",
    "            # Store the test loss for this epoch\n",
    "            test_losses.append(test_loss.item())\n",
    "\n",
    "        # Store the results for this combination\n",
    "        results.append({\n",
    "            'batch_size': batch_size,\n",
    "            'epochs': epochs,\n",
    "            'final_test_loss': test_losses[-1],\n",
    "            'train_losses': train_losses,\n",
    "        })\n",
    "\n",
    "# Convert results into a DataFrame for better viewing\n",
    "results_df = pd.DataFrame(results)\n"
   ]
  },
  {
   "cell_type": "code",
   "execution_count": 160,
   "metadata": {},
   "outputs": [
    {
     "name": "stdout",
     "output_type": "stream",
     "text": [
      " batch_size  epochs  final_test_loss\n",
      "         16      10        26.209141\n",
      "         16      20         9.532934\n",
      "         16      50         5.904189\n",
      "         16     100         5.122662\n",
      "         32      10        27.030674\n",
      "         32      20         9.987658\n",
      "         32      50         5.816092\n",
      "         32     100         5.113111\n",
      "         64      10        22.468458\n",
      "         64      20         8.293854\n",
      "         64      50         5.670214\n",
      "         64     100         5.095029\n",
      "        128      10        23.014721\n",
      "        128      20         7.889420\n",
      "        128      50         5.980798\n",
      "        128     100         5.200602\n",
      "        256      10        26.913275\n",
      "        256      20        10.463118\n",
      "        256      50         5.721421\n",
      "        256     100         5.105977\n"
     ]
    }
   ],
   "source": [
    "final_results_df = results_df.drop(columns=['train_losses'])\n",
    "\n",
    "pd.set_option('display.max_rows', None)\n",
    "print(final_results_df.to_string(index=False))"
   ]
  },
  {
   "cell_type": "code",
   "execution_count": 161,
   "metadata": {},
   "outputs": [
    {
     "data": {
      "image/png": "[encoded data removed]",
      "text/plain": [
       "<Figure size 1000x800 with 2 Axes>"
      ]
     },
     "metadata": {},
     "output_type": "display_data"
    }
   ],
   "source": [
    "test_loss_matrix = results_df.pivot(index=\"batch_size\", columns=\"epochs\", values=\"final_test_loss\")\n",
    "\n",
    "# Create a heatmap for test loss\n",
    "plt.figure(figsize=(10, 8))\n",
    "sns.heatmap(test_loss_matrix, annot=True, cmap=\"viridis\", fmt=\".4f\", cbar_kws={'label': 'Test Loss'})\n",
    "plt.title(\"Test Loss Heatmap\")\n",
    "plt.xlabel(\"Epochs\")\n",
    "plt.ylabel(\"Batch Size\")\n",
    "plt.show()\n"
   ]
  },
  {
   "cell_type": "code",
   "execution_count": 162,
   "metadata": {},
   "outputs": [
    {
     "name": "stderr",
     "output_type": "stream",
     "text": [
      "/Library/Frameworks/Python.framework/Versions/3.12/lib/python3.12/site-packages/pytorch_tabnet/abstract_model.py:82: UserWarning: Device used : cpu\n",
      "  warnings.warn(f\"Device used : {self.device}\")\n"
     ]
    }
   ],
   "source": [
    "# Initialise TabNetRegressor\n",
    "model = TabNetRegressor(\n",
    "    n_d=8,  # Number of decision steps\n",
    "    n_a=8,  # Attention size\n",
    "    n_steps=3,  # Number of steps\n",
    "    gamma=1.3,  # Penalty for complexity\n",
    "    lambda_sparse=1e-5,  # Sparsity loss\n",
    "    optimizer_fn=torch.optim.Adam,  # Optimiser\n",
    "    optimizer_params=dict(lr=1e-2),  # Learning rate\n",
    "    mask_type='sparsemax'  # Sparsemax activation\n",
    ")\n"
   ]
  },
  {
   "cell_type": "code",
   "execution_count": 163,
   "metadata": {},
   "outputs": [],
   "source": [
    "# Convert y_train and y_test to a numpy array and reshape it to be accepted by TabNet\n",
    "y_train = y_train.values.reshape(-1, 1)\n",
    "y_test = y_test.values.reshape(-1, 1)"
   ]
  },
  {
   "cell_type": "code",
   "execution_count": 164,
   "metadata": {},
   "outputs": [
    {
     "name": "stdout",
     "output_type": "stream",
     "text": [
      "epoch 0  | loss: 6.17072 | val_0_mse: 4.98301 |  0:00:07s\n",
      "epoch 1  | loss: 5.23238 | val_0_mse: 5.17537 |  0:00:14s\n",
      "epoch 2  | loss: 5.14115 | val_0_mse: 4.69676 |  0:00:21s\n",
      "epoch 3  | loss: 5.08554 | val_0_mse: 4.86971 |  0:00:27s\n",
      "epoch 4  | loss: 5.04873 | val_0_mse: 4.75581 |  0:00:34s\n",
      "epoch 5  | loss: 5.0513  | val_0_mse: 4.71569 |  0:00:41s\n",
      "epoch 6  | loss: 5.04214 | val_0_mse: 4.66371 |  0:00:48s\n",
      "epoch 7  | loss: 5.02267 | val_0_mse: 4.90494 |  0:00:55s\n",
      "epoch 8  | loss: 4.99883 | val_0_mse: 4.80408 |  0:01:01s\n",
      "epoch 9  | loss: 5.00462 | val_0_mse: 4.77772 |  0:01:08s\n",
      "epoch 10 | loss: 4.97545 | val_0_mse: 4.73304 |  0:01:15s\n",
      "epoch 11 | loss: 4.99262 | val_0_mse: 4.62842 |  0:01:22s\n",
      "epoch 12 | loss: 4.96831 | val_0_mse: 4.68045 |  0:01:28s\n",
      "epoch 13 | loss: 4.96207 | val_0_mse: 4.6532  |  0:01:36s\n",
      "epoch 14 | loss: 4.95071 | val_0_mse: 4.61894 |  0:01:42s\n",
      "epoch 15 | loss: 4.9441  | val_0_mse: 4.66511 |  0:01:49s\n",
      "epoch 16 | loss: 4.95037 | val_0_mse: 4.63505 |  0:01:56s\n",
      "epoch 17 | loss: 4.94044 | val_0_mse: 4.60643 |  0:02:03s\n",
      "epoch 18 | loss: 4.94126 | val_0_mse: 4.63427 |  0:02:10s\n",
      "epoch 19 | loss: 4.9371  | val_0_mse: 4.62772 |  0:02:17s\n",
      "Stop training because you reached max_epochs = 20 with best_epoch = 17 and best_val_0_mse = 4.60643\n"
     ]
    },
    {
     "name": "stderr",
     "output_type": "stream",
     "text": [
      "/Library/Frameworks/Python.framework/Versions/3.12/lib/python3.12/site-packages/pytorch_tabnet/callbacks.py:172: UserWarning: Best weights from best epoch are automatically used!\n",
      "  warnings.warn(wrn_msg)\n"
     ]
    },
    {
     "name": "stdout",
     "output_type": "stream",
     "text": [
      "Final Training Loss (MSE): 4.9371\n",
      "Final Test Loss (MSE): 4.6277\n"
     ]
    }
   ],
   "source": [
    "train_loss = []\n",
    "test_loss = []\n",
    "\n",
    "model.fit(\n",
    "    X_train, y_train, \n",
    "    eval_set=[(X_test, y_test)], \n",
    "    max_epochs=20,               # Number of epochs\n",
    "    batch_size=64,               # Batch size\n",
    "    virtual_batch_size=32,       # Virtual batch size for efficient training\n",
    "    patience=10,                 # Early stopping after 10 epochs without improvement\n",
    "    loss_fn=torch.nn.MSELoss(),               # MSE loss for regression\n",
    ")\n",
    "\n",
    "# Store the final training and test loss\n",
    "train_loss = model.history['loss'][-1]  # Last training loss\n",
    "test_loss = model.history['val_0_mse'][-1]  # Last test loss\n",
    "\n",
    "# Print the final losses\n",
    "print(f\"Final Training Loss (MSE): {train_loss:.4f}\")\n",
    "print(f\"Final Test Loss (MSE): {test_loss:.4f}\")"
   ]
  },
  {
   "cell_type": "code",
   "execution_count": 165,
   "metadata": {},
   "outputs": [
    {
     "name": "stdout",
     "output_type": "stream",
     "text": [
      "Training Loss (MSE): 4.7546\n",
      "Test Loss (MSE): 4.6064\n",
      "RMSE: 2.15\n",
      "R²: 0.73\n"
     ]
    }
   ],
   "source": [
    "# Evaluate the model on the training and test data\n",
    "train_predictions = model.predict(X_train)  # Using the TabNet model's predict method\n",
    "test_predictions = model.predict(X_test)    # Same here for test predictions\n",
    "\n",
    "# Calculate the loss using MSE (Mean Squared Error) for both training and test sets\n",
    "train_loss = mean_squared_error(y_train, train_predictions)\n",
    "test_loss = mean_squared_error(y_test, test_predictions)\n",
    "\n",
    "# Print the loss on both the training and test data\n",
    "print(f\"Training Loss (MSE): {train_loss:.4f}\")\n",
    "print(f\"Test Loss (MSE): {test_loss:.4f}\")\n",
    "\n",
    "# Calculate RMSE and R² score for the test data\n",
    "rmse = np.sqrt(test_loss)\n",
    "r2 = r2_score(y_test, test_predictions)\n",
    "\n",
    "# Print RMSE and R²\n",
    "print(f\"RMSE: {rmse:.2f}\")\n",
    "print(f\"R²: {r2:.2f}\")"
   ]
  },
  {
   "cell_type": "code",
   "execution_count": 167,
   "metadata": {},
   "outputs": [
    {
     "data": {
      "image/png": "[encoded data removed]",
      "text/plain": [
       "<Figure size 1000x600 with 1 Axes>"
      ]
     },
     "metadata": {},
     "output_type": "display_data"
    }
   ],
   "source": [
    "# Plot the training and validation loss curves\n",
    "plt.figure(figsize=(10, 6))\n",
    "plt.plot(model.history['loss'], label='Training Loss', color='blue')\n",
    "plt.plot(model.history['val_0_mse'], label='Test Loss', color='orange')\n",
    "\n",
    "# Add labels and title\n",
    "plt.xlabel('Epochs')\n",
    "plt.ylabel('Loss (MSE)')\n",
    "plt.title('Training and Validation Loss Curves')\n",
    "plt.legend()\n",
    "\n",
    "# Display the plot\n",
    "plt.show()"
   ]
  },
  {
   "cell_type": "code",
   "execution_count": null,
   "metadata": {},
   "outputs": [],
   "source": []
  }
 ],
 "metadata": {
  "kernelspec": {
   "display_name": "Python 3",
   "language": "python",
   "name": "python3"
  },
  "language_info": {
   "codemirror_mode": {
    "name": "ipython",
    "version": 3
   },
   "file_extension": ".py",
   "mimetype": "text/x-python",
   "name": "python",
   "nbconvert_exporter": "python",
   "pygments_lexer": "ipython3",
   "version": "3.12.8"
  }
 },
 "nbformat": 4,
 "nbformat_minor": 2
}

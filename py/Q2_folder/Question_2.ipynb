{
 "cells": [
  {
   "cell_type": "markdown",
   "metadata": {},
   "source": [
    "# **Predicting Fire Radiative Power Using a Neural Network**"
   ]
  },
  {
   "cell_type": "markdown",
   "metadata": {},
   "source": [
    "## **Introduction:**\n",
    "\n",
    "This notebook explores the prediction Fire Radiative Power (FRP) using satellite data of Australian bushfires with a neural network. We’ll use the cleaned dataset from Question 1 and apply a PyTorch-based neural network to predict FRP. This notebook will include data preprocessing, training a neural network model, and evaluating its performance."
   ]
  },
  {
   "cell_type": "markdown",
   "metadata": {},
   "source": [
    "## Importing Required Libraries\n",
    "\n",
    "The following libraries are used for data processing, neural network training, and visualization:\n",
    "\n",
    "- **`os`**: Handles file paths and directories.\n",
    "- **`torch`**: PyTorch library for building and training neural networks.\n",
    "- **`torch.nn`**: Contains classes for defining and training neural networks.\n",
    "- **`torch.optim`**: Provides optimization algorithms like Adam for training neural networks.\n",
    "- **`sklearn.model_selection.train_test_split`**: Splits the dataset into training and testing subsets.\n",
    "- **`sklearn.preprocessing.StandardScaler`**: Standardizes features by removing the mean and scaling to unit variance.\n",
    "- **`pandas`**: For data manipulation and analysis.\n",
    "- **`numpy`**: Core library for numerical computing.\n",
    "- **`matplotlib.pyplot`**: Creates static visualizations like plots and charts.\n"
   ]
  },
  {
   "cell_type": "code",
   "execution_count": 4,
   "metadata": {},
   "outputs": [],
   "source": [
    "import torch\n",
    "import torch.nn as nn\n",
    "import torch.optim as optim\n",
    "from sklearn.model_selection import train_test_split\n",
    "from sklearn.preprocessing import StandardScaler\n",
    "import pandas as pd\n",
    "import numpy as np\n",
    "import matplotlib.pyplot as plt"
   ]
  },
  {
   "cell_type": "code",
   "execution_count": null,
   "metadata": {},
   "outputs": [],
   "source": []
  }
 ],
 "metadata": {
  "kernelspec": {
   "display_name": "Python 3",
   "language": "python",
   "name": "python3"
  },
  "language_info": {
   "codemirror_mode": {
    "name": "ipython",
    "version": 3
   },
   "file_extension": ".py",
   "mimetype": "text/x-python",
   "name": "python",
   "nbconvert_exporter": "python",
   "pygments_lexer": "ipython3",
   "version": "3.12.8"
  }
 },
 "nbformat": 4,
 "nbformat_minor": 2
}

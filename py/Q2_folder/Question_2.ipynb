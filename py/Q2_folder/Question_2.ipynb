{
 "cells": [
  {
   "cell_type": "markdown",
   "metadata": {},
   "source": [
    "# **Predicting Fire Radiative Power Using a Neural Network**"
   ]
  },
  {
   "cell_type": "markdown",
   "metadata": {},
   "source": [
    "## **Introduction**\n",
    "\n",
    "This notebook explores the prediction Fire Radiative Power (FRP) using satellite data of Australian bushfires with a neural network. We’ll use the cleaned dataset from Question 1 and apply a PyTorch-based neural network to predict FRP. This notebook will include data preprocessing, training a neural network model, and evaluating its performance."
   ]
  },
  {
   "cell_type": "markdown",
   "metadata": {},
   "source": [
    "## **Importing Required Libraries**\n",
    "\n",
    "The following libraries are used for data processing, neural network training, and visualisation:\n",
    "\n",
    "- **`os`**: Handles file paths and directories.\n",
    "- **`torch`**: PyTorch library for building and training neural networks.\n",
    "- **`torch.nn`**: Contains classes for defining and training neural networks.\n",
    "- **`torch.optim`**: Provides optimisation algorithms like Adam for training neural networks.\n",
    "- **`sklearn.model_selection.train_test_split`**: Splits the dataset into training and testing subsets.\n",
    "- **`sklearn.preprocessing.StandardScaler`**: Standardises features by removing the mean and scaling to unit variance.\n",
    "- **`pandas`**: For data manipulation and analysis.\n",
    "- **`numpy`**: Core library for numerical computing.\n",
    "- **`matplotlib.pyplot`**: Creates static visualizations like plots and charts.\n"
   ]
  },
  {
   "cell_type": "code",
   "execution_count": 4,
   "metadata": {},
   "outputs": [],
   "source": [
    "import torch\n",
    "import torch.nn as nn\n",
    "import torch.optim as optim\n",
    "from sklearn.model_selection import train_test_split\n",
    "from sklearn.preprocessing import StandardScaler\n",
    "import pandas as pd\n",
    "import numpy as np\n",
    "import matplotlib.pyplot as plt"
   ]
  },
  {
   "cell_type": "markdown",
   "metadata": {},
   "source": [
    "## **Data Loading**\n",
    "\n",
    "Since in Question 1 we did some preprocessing on the bushfires dataset, here we can begin by loading and exploring the cleaned dataset from Question 1 where we did things like capping the FRP to exclude extreme outliers, filtering out low-confidence rows, and dropping unnecessary columns.\n"
   ]
  },
  {
   "cell_type": "code",
   "execution_count": 5,
   "metadata": {},
   "outputs": [],
   "source": [
    "# Load the dataset (your own filename or path may be different)\n",
    "dataset_path = \"/Users/ciaranbritton/Library/Mobile Documents/com~apple~CloudDocs/Ciaran's Folder/University/Year 4/Advanced Computational Techniques/cleaned_bushfires.csv\"\n",
    "df = pd.read_csv(dataset_path)"
   ]
  },
  {
   "cell_type": "code",
   "execution_count": 6,
   "metadata": {},
   "outputs": [
    {
     "name": "stdout",
     "output_type": "stream",
     "text": [
      "<class 'pandas.core.frame.DataFrame'>\n",
      "RangeIndex: 98514 entries, 0 to 98513\n",
      "Data columns (total 12 columns):\n",
      " #   Column        Non-Null Count  Dtype  \n",
      "---  ------        --------------  -----  \n",
      " 0   latitude      98514 non-null  float64\n",
      " 1   longitude     98514 non-null  float64\n",
      " 2   bright_ti4    98514 non-null  float64\n",
      " 3   scan          98514 non-null  float64\n",
      " 4   track         98514 non-null  float64\n",
      " 5   acq_time      98514 non-null  int64  \n",
      " 6   bright_ti5    98514 non-null  float64\n",
      " 7   frp           98514 non-null  float64\n",
      " 8   type          98514 non-null  int64  \n",
      " 9   confidence_h  98514 non-null  bool   \n",
      " 10  confidence_n  98514 non-null  bool   \n",
      " 11  frp_capped    98514 non-null  float64\n",
      "dtypes: bool(2), float64(8), int64(2)\n",
      "memory usage: 7.7 MB\n"
     ]
    }
   ],
   "source": [
    "# Display information on the dataset\n",
    "df.info()"
   ]
  },
  {
   "cell_type": "code",
   "execution_count": 7,
   "metadata": {},
   "outputs": [
    {
     "data": {
      "text/html": [
       "<div>\n",
       "<style scoped>\n",
       "    .dataframe tbody tr th:only-of-type {\n",
       "        vertical-align: middle;\n",
       "    }\n",
       "\n",
       "    .dataframe tbody tr th {\n",
       "        vertical-align: top;\n",
       "    }\n",
       "\n",
       "    .dataframe thead th {\n",
       "        text-align: right;\n",
       "    }\n",
       "</style>\n",
       "<table border=\"1\" class=\"dataframe\">\n",
       "  <thead>\n",
       "    <tr style=\"text-align: right;\">\n",
       "      <th></th>\n",
       "      <th>latitude</th>\n",
       "      <th>longitude</th>\n",
       "      <th>bright_ti4</th>\n",
       "      <th>scan</th>\n",
       "      <th>track</th>\n",
       "      <th>acq_time</th>\n",
       "      <th>bright_ti5</th>\n",
       "      <th>frp</th>\n",
       "      <th>type</th>\n",
       "      <th>confidence_h</th>\n",
       "      <th>confidence_n</th>\n",
       "      <th>frp_capped</th>\n",
       "    </tr>\n",
       "  </thead>\n",
       "  <tbody>\n",
       "    <tr>\n",
       "      <th>0</th>\n",
       "      <td>-37.48861</td>\n",
       "      <td>149.63156</td>\n",
       "      <td>341.1</td>\n",
       "      <td>0.41</td>\n",
       "      <td>0.60</td>\n",
       "      <td>304</td>\n",
       "      <td>293.7</td>\n",
       "      <td>4.4</td>\n",
       "      <td>0</td>\n",
       "      <td>False</td>\n",
       "      <td>True</td>\n",
       "      <td>4.4</td>\n",
       "    </tr>\n",
       "    <tr>\n",
       "      <th>1</th>\n",
       "      <td>-33.94823</td>\n",
       "      <td>151.21292</td>\n",
       "      <td>341.1</td>\n",
       "      <td>0.62</td>\n",
       "      <td>0.54</td>\n",
       "      <td>305</td>\n",
       "      <td>295.3</td>\n",
       "      <td>6.4</td>\n",
       "      <td>0</td>\n",
       "      <td>False</td>\n",
       "      <td>True</td>\n",
       "      <td>6.4</td>\n",
       "    </tr>\n",
       "    <tr>\n",
       "      <th>2</th>\n",
       "      <td>-34.45618</td>\n",
       "      <td>150.87723</td>\n",
       "      <td>328.5</td>\n",
       "      <td>0.33</td>\n",
       "      <td>0.55</td>\n",
       "      <td>305</td>\n",
       "      <td>298.1</td>\n",
       "      <td>2.1</td>\n",
       "      <td>2</td>\n",
       "      <td>False</td>\n",
       "      <td>True</td>\n",
       "      <td>2.1</td>\n",
       "    </tr>\n",
       "    <tr>\n",
       "      <th>3</th>\n",
       "      <td>-31.60223</td>\n",
       "      <td>150.15147</td>\n",
       "      <td>367.0</td>\n",
       "      <td>0.34</td>\n",
       "      <td>0.56</td>\n",
       "      <td>306</td>\n",
       "      <td>302.4</td>\n",
       "      <td>19.3</td>\n",
       "      <td>0</td>\n",
       "      <td>True</td>\n",
       "      <td>False</td>\n",
       "      <td>19.3</td>\n",
       "    </tr>\n",
       "    <tr>\n",
       "      <th>4</th>\n",
       "      <td>-29.26867</td>\n",
       "      <td>149.46602</td>\n",
       "      <td>367.0</td>\n",
       "      <td>0.35</td>\n",
       "      <td>0.57</td>\n",
       "      <td>306</td>\n",
       "      <td>307.0</td>\n",
       "      <td>13.6</td>\n",
       "      <td>0</td>\n",
       "      <td>True</td>\n",
       "      <td>False</td>\n",
       "      <td>13.6</td>\n",
       "    </tr>\n",
       "  </tbody>\n",
       "</table>\n",
       "</div>"
      ],
      "text/plain": [
       "   latitude  longitude  bright_ti4  scan  track  acq_time  bright_ti5   frp  \\\n",
       "0 -37.48861  149.63156       341.1  0.41   0.60       304       293.7   4.4   \n",
       "1 -33.94823  151.21292       341.1  0.62   0.54       305       295.3   6.4   \n",
       "2 -34.45618  150.87723       328.5  0.33   0.55       305       298.1   2.1   \n",
       "3 -31.60223  150.15147       367.0  0.34   0.56       306       302.4  19.3   \n",
       "4 -29.26867  149.46602       367.0  0.35   0.57       306       307.0  13.6   \n",
       "\n",
       "   type  confidence_h  confidence_n  frp_capped  \n",
       "0     0         False          True         4.4  \n",
       "1     0         False          True         6.4  \n",
       "2     2         False          True         2.1  \n",
       "3     0          True         False        19.3  \n",
       "4     0          True         False        13.6  "
      ]
     },
     "execution_count": 7,
     "metadata": {},
     "output_type": "execute_result"
    }
   ],
   "source": [
    "# Display the first rows of each column\n",
    "df.head()"
   ]
  },
  {
   "cell_type": "code",
   "execution_count": null,
   "metadata": {},
   "outputs": [],
   "source": []
  }
 ],
 "metadata": {
  "kernelspec": {
   "display_name": "Python 3",
   "language": "python",
   "name": "python3"
  },
  "language_info": {
   "codemirror_mode": {
    "name": "ipython",
    "version": 3
   },
   "file_extension": ".py",
   "mimetype": "text/x-python",
   "name": "python",
   "nbconvert_exporter": "python",
   "pygments_lexer": "ipython3",
   "version": "3.12.8"
  }
 },
 "nbformat": 4,
 "nbformat_minor": 2
}
